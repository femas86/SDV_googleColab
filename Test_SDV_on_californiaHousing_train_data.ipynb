{
  "nbformat": 4,
  "nbformat_minor": 0,
  "metadata": {
    "colab": {
      "provenance": [],
      "authorship_tag": "ABX9TyNVNiCJD9xEAen8c7r9Si1T",
      "include_colab_link": true
    },
    "kernelspec": {
      "name": "python3",
      "display_name": "Python 3"
    },
    "language_info": {
      "name": "python"
    }
  },
  "cells": [
    {
      "cell_type": "markdown",
      "metadata": {
        "id": "view-in-github",
        "colab_type": "text"
      },
      "source": [
        "<a href=\"https://colab.research.google.com/github/femas86/SDV_googleColab/blob/main/Test_SDV_on_californiaHousing_train_data.ipynb\" target=\"_parent\"><img src=\"https://colab.research.google.com/assets/colab-badge.svg\" alt=\"Open In Colab\"/></a>"
      ]
    },
    {
      "cell_type": "code",
      "execution_count": null,
      "metadata": {
        "id": "ik9mx5P1EH9R"
      },
      "outputs": [],
      "source": [
        "!pip install sdv\n",
        "import pandas as pd\n",
        "import uuid\n",
        "from sdv.metadata import SingleTableMetadata\n",
        "from sdv.single_table import CTGANSynthesizer\n",
        "from sdv.evaluation.single_table import run_diagnostic, evaluate_quality\n",
        "from sdv.evaluation.single_table import get_column_plot\n",
        "\n",
        "train_df = pd.read_csv(\"https://download.mlcc.google.com/mledu-datasets/california_housing_train.csv\")\n",
        "train_df['uuid'] = [uuid.uuid4() for _ in range(len(train_df.index))]\n",
        "\n",
        "metadata = SingleTableMetadata()\n",
        "metadata.detect_from_dataframe(train_df)\n",
        "#metadata.set_primary_key(column_name='uuid')\n",
        "\n",
        "metadata.validate_data(data=train_df)\n",
        "synthesizer = CTGANSynthesizer(\n",
        "    metadata, # required\n",
        "    enforce_rounding=False,\n",
        "    epochs=300,\n",
        "    verbose=True\n",
        ")\n",
        "synthesizer.fit(train_df)\n",
        "\n",
        "synthetic_data = synthesizer.sample(num_rows=100)\n",
        "\n",
        "# 1. perform basic validity checks\n",
        "diagnostic = run_diagnostic(train_df, synthetic_data, metadata)\n",
        "\n",
        "# 2. measure the statistical similarity\n",
        "quality_report = evaluate_quality(train_df, synthetic_data, metadata)\n",
        "\n",
        "# 3. plot the data\n",
        "fig = get_column_plot(\n",
        "    real_data=train_df,\n",
        "    synthetic_data=synthetic_data,\n",
        "    metadata=metadata,\n",
        "    column_name='median_house_value',\n",
        "    plot_type=\"displot\"\n",
        ")\n",
        "\n",
        "fig.show()"
      ]
    }
  ]
}